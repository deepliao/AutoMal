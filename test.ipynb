{
 "cells": [
  {
   "cell_type": "code",
   "execution_count": 1,
   "metadata": {},
   "outputs": [
    {
     "name": "stdout",
     "output_type": "stream",
     "text": [
      "Predicted label: 5\n"
     ]
    },
    {
     "data": {
      "image/png": "[encoded data removed]",
      "text/plain": [
       "<Figure size 640x480 with 1 Axes>"
      ]
     },
     "metadata": {},
     "output_type": "display_data"
    }
   ],
   "source": [
    "import tensorflow as tf\n",
    "import numpy as np\n",
    "import matplotlib.pyplot as plt\n",
    "\n",
    "# 加载MNIST数据集\n",
    "(train_images, train_labels), (test_images, test_labels) = tf.keras.datasets.mnist.load_data()\n",
    "\n",
    "# 重新调整测试图像的形状，添加单通道维度\n",
    "test_images = test_images[..., np.newaxis]\n",
    "\n",
    "# 找到标签为5的图片的索引\n",
    "indices_label_5 = np.where(test_labels == 5)[0]\n",
    "# 从中随机选择一个索引\n",
    "index = np.random.choice(indices_label_5)\n",
    "test_image = test_images[index]\n",
    "\n",
    "# 假设您已经加载了模型，并且模型保存在saved_model_path变量中\n",
    "saved_model_path = \"model\"\n",
    "loaded_model = tf.saved_model.load(saved_model_path)\n",
    "\n",
    "# 获取模型的默认签名函数\n",
    "predict_fn = loaded_model.signatures[\"serving_default\"]\n",
    "\n",
    "# 将图像归一化到[0, 1]区间，并转换为float32类型\n",
    "test_image_np = test_image / 255.0\n",
    "test_image_np = test_image_np.astype(np.float32)\n",
    "\n",
    "# 准备输入张量，添加批次维度\n",
    "input_tensor = tf.convert_to_tensor(test_image_np[None, :, :, :])\n",
    "\n",
    "# 进行预测\n",
    "output_dict = predict_fn(input_tensor)\n",
    "\n",
    "# 获取预测结果，这里假设输出的张量名称是'output_1'\n",
    "predictions = output_dict['output_1']\n",
    "\n",
    "# 将预测结果转换为NumPy数组\n",
    "predictions_np = predictions.numpy()\n",
    "\n",
    "# 获取最可能的类别\n",
    "predicted_label = np.argmax(predictions_np[0])\n",
    "\n",
    "# 打印预测结果\n",
    "print(\"Predicted label:\", predicted_label)\n",
    "\n",
    "\n",
    "# 将 TensorFlow 张量转换为 NumPy 数组，并去除单维度\n",
    "test_image_np = test_image.squeeze()\n",
    "\n",
    "# 显示图像\n",
    "plt.imshow(test_image_np, cmap='gray')  # 使用灰度色彩映射显示图像\n",
    "plt.axis('off')  # 隐藏坐标轴\n",
    "plt.title('Test Image with Label 5')\n",
    "plt.show()"
   ]
  }
 ],
 "metadata": {
  "kernelspec": {
   "display_name": "base",
   "language": "python",
   "name": "python3"
  },
  "language_info": {
   "codemirror_mode": {
    "name": "ipython",
    "version": 3
   },
   "file_extension": ".py",
   "mimetype": "text/x-python",
   "name": "python",
   "nbconvert_exporter": "python",
   "pygments_lexer": "ipython3",
   "version": "3.9.13"
  }
 },
 "nbformat": 4,
 "nbformat_minor": 2
}
